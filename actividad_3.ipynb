{
 "cells": [
  {
   "cell_type": "markdown",
   "metadata": {},
   "source": [
    "# Actividad 3 por Python plus"
   ]
  },
  {
   "cell_type": "markdown",
   "metadata": {},
   "source": [
    "### CODIGO DADO:\n"
   ]
  },
  {
   "cell_type": "code",
   "execution_count": null,
   "metadata": {},
   "outputs": [],
   "source": [
    "def WithoutAccent(my_text):\n",
    "    vowles = {\n",
    "        'Á': 'A', 'á': 'a',\n",
    "        'É': 'E', 'é': 'e',\n",
    "        'Í': 'I', 'í': 'i',\n",
    "        'Ó': 'O', 'ó': 'o',\n",
    "        'Ú': 'U', 'ú': 'u'\n",
    "    }\n",
    "    #completar\n",
    "    my_text = my_text.lower()\n",
    "    result = ''.join(vowles.get(letter, letter) for letter in my_text)\n",
    "    return result\n",
    "\n",
    "#Ejemplos de uso de la función\n",
    "WithoutAccent(\"Río Negro\")\n",
    "#debe retornar \"Rio Negro\"\n",
    "\n",
    "WithoutAccent(\"Río Negro\", False)\n",
    "#debe retornar \"rio negro\""
   ]
  },
  {
   "cell_type": "markdown",
   "metadata": {},
   "source": [
    "### CODIGO MODIFICADO:"
   ]
  },
  {
   "cell_type": "code",
   "execution_count": null,
   "metadata": {},
   "outputs": [],
   "source": [
    "def without_accent(my_text, lower=False): # Nueva variable \"minuscula\"\n",
    "    vowels = {\n",
    "        'Á': 'A', 'á': 'a',\n",
    "        'É': 'E', 'é': 'e',\n",
    "        'Í': 'I', 'í': 'i',\n",
    "        'Ó': 'O', 'ó': 'o',\n",
    "        'Ú': 'U', 'ú': 'u'\n",
    "    } \n",
    "    result = ''.join(vowels.get(letter, letter) for letter in my_text)\n",
    "    if lower:\n",
    "        return result.lower()\n",
    "    return result\n",
    "\n",
    "#Ejemplos de uso de la función\n",
    "without_accent(\"Río Negro\")\n",
    "#debe retornar \"Rio Negro\"\n",
    "\n",
    "without_accent(\"Río Negro\", False)\n",
    "#debe retornar \"rio negro\""
   ]
  },
  {
   "cell_type": "markdown",
   "metadata": {},
   "source": [
    "### CODIGO DADO:\n"
   ]
  },
  {
   "cell_type": "code",
   "execution_count": null,
   "metadata": {},
   "outputs": [],
   "source": [
    "import csv\n",
    "file_name = 'ar.csv'\n",
    "try:\n",
    "    with open(file_name) as arg_data:\n",
    "        csv_reader = csv.reader(arg_data)\n",
    "except:\n",
    "    print(f'Hubo problemas con {file_name}')"
   ]
  },
  {
   "cell_type": "markdown",
   "metadata": {},
   "source": [
    "### CODIGO MODIFICADO:"
   ]
  },
  {
   "cell_type": "code",
   "execution_count": null,
   "metadata": {},
   "outputs": [],
   "source": [
    "import csv\n",
    "\n",
    "file_name = 'ar.csv'\n",
    "\n",
    "try:\n",
    "    with open(file_name) as arg_data:\n",
    "        csv_reader = csv.reader(arg_data)\n",
    "except FileNotFoundError:\n",
    "    print(f'No se encontró el archivo {file_name}')\n",
    "finally : \n",
    "    print(\"Este mensaje se muestra siempre\")"
   ]
  },
  {
   "cell_type": "markdown",
   "metadata": {},
   "source": [
    "## 1.Analizá el código y respondé:"
   ]
  },
  {
   "cell_type": "markdown",
   "metadata": {},
   "source": [
    "**A) ¿Qué cambios es necesario realizar en la definición y el código de la función WithoutAccent\n",
    "para que ambas invocaciones dadas como ejemplo, funcionen correctamente.**"
   ]
  },
  {
   "cell_type": "markdown",
   "metadata": {},
   "source": [
    "- RESPUESTA: En este caso, es necesario modificar la funcion para que ademas de recibir un string por parametro reciba tambien un dato booleano que servira para determinar si el string de retorno de la funcion será devuelto en minuscula o por defecto. De esta manera, se elimina la conversion a lower de my_text para que conserve sus mayúsculas y se realiza un if para comprobar si se desea o no devolver el string en minuscula. La nueva variable será un parametro opcional por lo que tendra un valor por defecto (en este caso \"False\")."
   ]
  },
  {
   "cell_type": "markdown",
   "metadata": {},
   "source": [
    "**B) La función modificada en el punto anterior ¿con cuántos parámetros se puede invocar?¿Cuántos\n",
    "en forma obligatoria y/o opcionales?**"
   ]
  },
  {
   "cell_type": "markdown",
   "metadata": {},
   "source": [
    "- RESPUESTA: La funcion modificada puede invocarse hasta con dos parametros. Uno (\"my_text\") será obligatorio, el cual deberá ser un string o en caso contrario dará error, y uno opacional (\"lower\") que podrá o no ser enviado, y en caso de que no sea enviado tomará el valor asignado por defecto \"False\"."
   ]
  },
  {
   "cell_type": "markdown",
   "metadata": {},
   "source": [
    "**C) En el bloque de apertura del archivo, produce una excepción, ¿qué modificaciones deberías\n",
    "hacer para manejar sólo esa excepción y qué diferencia hay con esta solución planetada?**"
   ]
  },
  {
   "cell_type": "markdown",
   "metadata": {},
   "source": [
    "- RESPUESTA: La excepcion que se produce en el bloque de codigo dado, ocurre debido a que el archivo no existe (\"[Errno 2] No such file or directory: 'ar.csv'\"). Para tratar solo esta excepcion se debe definir el bloque except para el tipo de excepcion indicado, en este caso \"FileNotFoundError\". De esta manera, el bloque de excepcion solo se ejecutara si la excepcion tirada por el programa se da porque no se encuentra el archivo. Podemos cambiar el mensaje del print para que la informacion acerca del error sea mas especifica y el usuario pueda determinar bien a que se debe la falla."
   ]
  },
  {
   "cell_type": "markdown",
   "metadata": {},
   "source": [
    "**D) ¿Qué cláusula en el bloque de excepción es necesario agregar si se quiere mostrar un mensaje,\n",
    "luego de la apertura del archivo, independiemente si se produjo o no la excepción?**"
   ]
  },
  {
   "cell_type": "markdown",
   "metadata": {},
   "source": [
    "- RESPUESTA: Si se quiere mostrar un mensaje o ejecutar un bloque de codigo independientemente de si se haya producido una excepcion o no. Se debe agregar el bloque \"finally\" luego de los bloques \"except\". De esta manera, todas las lineas de codigo dentro de este bloque se ejecutaran de cualquier manera sin importar si hubo o no un error."
   ]
  },
  {
   "cell_type": "markdown",
   "metadata": {},
   "source": [
    "**E) ¿Cuál es tipo de dato de la variable csv_reader?**"
   ]
  },
  {
   "cell_type": "markdown",
   "metadata": {},
   "source": [
    "- RESPUESTA: El tipo de dato de la variable csv_reader es una lista. Dicha lista esta compuesta por otras listas. Cada elemento de csv_reader se corresponde con una linea del archivo csv y a su vez, cada elemento de dicha \"linea\" se corresponde a una celda de la linea."
   ]
  },
  {
   "cell_type": "markdown",
   "metadata": {},
   "source": []
  },
  {
   "cell_type": "markdown",
   "metadata": {},
   "source": []
  }
 ],
 "metadata": {
  "kernelspec": {
   "display_name": "Python 3",
   "language": "python",
   "name": "python3"
  },
  "language_info": {
   "codemirror_mode": {
    "name": "ipython",
    "version": 3
   },
   "file_extension": ".py",
   "mimetype": "text/x-python",
   "name": "python",
   "nbconvert_exporter": "python",
   "pygments_lexer": "ipython3",
   "version": "3.11.7"
  }
 },
 "nbformat": 4,
 "nbformat_minor": 2
}
